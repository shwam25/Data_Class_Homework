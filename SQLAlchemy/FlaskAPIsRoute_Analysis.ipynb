{
 "cells": [
  {
   "cell_type": "markdown",
   "metadata": {},
   "source": [
    "Routes\n",
    "/\n",
    "Home page.\n",
    "\n",
    "List all routes that are available.\n",
    "\n",
    "\n",
    "/api/v1.0/precipitation\n",
    "\n",
    "Convert the query results to a dictionary using date as the key and prcp as the value.\n",
    "\n",
    "Return the JSON representation of your dictionary.\n",
    "\n",
    "\n",
    "\n",
    "/api/v1.0/stations\n",
    "\n",
    "Return a JSON list of stations from the dataset.\n",
    "\n",
    "\n",
    "\n",
    "\n",
    "/api/v1.0/tobs\n",
    "\n",
    "\n",
    "Query the dates and temperature observations of the most active station for the last year of data.\n",
    "\n",
    "Return a JSON list of temperature observations (TOBS) for the previous year.\n",
    "\n",
    "\n",
    "\n",
    "\n",
    "/api/v1.0/<start> and /api/v1.0/<start>/<end>\n",
    "\n",
    "\n",
    "Return a JSON list of the minimum temperature, the average temperature, and the max temperature for a given start or start-end range.\n",
    "\n",
    "When given the start only, calculate TMIN, TAVG, and TMAX for all dates greater than and equal to the start date.\n",
    "\n",
    "When given the start and the end date, calculate the TMIN, TAVG, and TMAX for dates between the start and end date inclusive.\n"
   ]
  },
  {
   "cell_type": "code",
   "execution_count": 1,
   "metadata": {},
   "outputs": [],
   "source": [
    "# Import the dependencies\n",
    "import numpy as np\n",
    "import pandas as pd\n",
    "\n",
    "import datetime as dt\n",
    "from dateutil.relativedelta import relativedelta\n",
    "\n",
    "import sqlalchemy\n",
    "from sqlalchemy.ext.automap import automap_base\n",
    "from sqlalchemy.orm import Session\n",
    "from sqlalchemy import create_engine, MetaData, Table, Column, ForeignKey, inspect, func\n",
    "\n",
    "from flask import Flask, jsonify"
   ]
  },
  {
   "cell_type": "code",
   "execution_count": 2,
   "metadata": {},
   "outputs": [],
   "source": [
    "engine = create_engine(\"sqlite:///Resources/hawaii.sqlite\")"
   ]
  },
  {
   "cell_type": "code",
   "execution_count": 3,
   "metadata": {},
   "outputs": [],
   "source": [
    "# Reflect an existing database into a new model\n",
    "Base = automap_base()\n",
    "\n",
    "# Reflect the tables\n",
    "Base.prepare(engine, reflect=True)"
   ]
  },
  {
   "cell_type": "code",
   "execution_count": 4,
   "metadata": {},
   "outputs": [
    {
     "data": {
      "text/plain": [
       "['measurement', 'station']"
      ]
     },
     "execution_count": 4,
     "metadata": {},
     "output_type": "execute_result"
    }
   ],
   "source": [
    "# View all of the classes that automap found\n",
    "Base.classes.keys()"
   ]
  },
  {
   "cell_type": "code",
   "execution_count": 5,
   "metadata": {},
   "outputs": [],
   "source": [
    "# Save reference to the table\n",
    "Measurement = Base.classes.measurement\n",
    "Station = Base.classes.station"
   ]
  },
  {
   "cell_type": "code",
   "execution_count": 6,
   "metadata": {},
   "outputs": [
    {
     "name": "stdout",
     "output_type": "stream",
     "text": [
      "id INTEGER\n",
      "station TEXT\n",
      "date TEXT\n",
      "prcp FLOAT\n",
      "tobs FLOAT\n"
     ]
    }
   ],
   "source": [
    "# Inspecting the column name and type for 'measurement'\n",
    "#inspector = inspect(engine)\n",
    "#inspector.get_table_names()\n",
    "#columns = inspector.get_columns('measurement')\n",
    "#for column in columns:\n",
    "    #print(column[\"name\"], column[\"type\"])"
   ]
  },
  {
   "cell_type": "code",
   "execution_count": 7,
   "metadata": {},
   "outputs": [
    {
     "name": "stdout",
     "output_type": "stream",
     "text": [
      "id INTEGER\n",
      "station TEXT\n",
      "name TEXT\n",
      "latitude FLOAT\n",
      "longitude FLOAT\n",
      "elevation FLOAT\n"
     ]
    }
   ],
   "source": [
    "# Inspecting the column name and type for 'station'\n",
    "#inspector = inspect(engine)\n",
    "#inspector.get_table_names()\n",
    "#columns = inspector.get_columns('station')\n",
    "#for column in columns:\n",
    "    #print(column[\"name\"], column[\"type\"])"
   ]
  },
  {
   "cell_type": "code",
   "execution_count": 8,
   "metadata": {},
   "outputs": [],
   "source": [
    "# Flask Setup\n",
    "app = Flask(__name__)"
   ]
  },
  {
   "cell_type": "code",
   "execution_count": 9,
   "metadata": {},
   "outputs": [],
   "source": [
    "# Flask route \"homepage\"\n",
    "@app.route(\"/\")\n",
    "\n",
    "def Home():\n",
    "\n",
    "    \"\"\"\n",
    "\n",
    "        List all the available routes in the app.\n",
    "\n",
    "    \"\"\"\n",
    "\n",
    "    return (\n",
    "\n",
    "        f\"Welcome to the Hawaii Weather Home page!<br/>\"\n",
    "\n",
    "        f\"Available Routes:<br/>\"\n",
    "\n",
    "        f\"/api/v1.0/precipitation<br/>\"\n",
    "\n",
    "        f\"/api/v1.0/stations<br/>\"\n",
    "\n",
    "        f\"/api/v1.0/tobs<br/><br/>\"\n",
    "\n",
    "        f\"Please enter start date in below api in the format YYYY-MM-DD<br/>\"\n",
    "\n",
    "        f\"/api/v1.0/<start_date><br/><br/>\"\n",
    "\n",
    "        f\"Please enter start and end dates in below api in the format YYYY-MM-DD/YYYY-MM-DD<br/>\"\n",
    "\n",
    "        f\"/api/v1.0/<start_date>/<end_date><br/>\"\n",
    "\n",
    "    )"
   ]
  },
  {
   "cell_type": "code",
   "execution_count": 10,
   "metadata": {},
   "outputs": [],
   "source": [
    "# Flask route \"precipitation\"\n",
    "@app.route(\"/api/v1.0/precipitation\")\n",
    "\n",
    "def precipitation():\n",
    "\n",
    "# Create our session (link) from Python to the DB\n",
    "    session = Session(engine)\n",
    "\n",
    "#  Calculate the \"max date\" in the Measurement Table\n",
    "    max_date = session.query(Measurement.date).order_by(Measurement.date.desc()).first()\n",
    "\n",
    "# Calculate the date a year before\n",
    "# (the date to be used to get all the records greater than the date)\n",
    "    previous_year_date = (dt.datetime.strptime(max_date[0], '%Y-%m-%d').date() - relativedelta(years=1)).isoformat()\n",
    "\n",
    "#  Perform a query to retrieve the date and precipitation data\n",
    "    measurement_result = session.query(Measurement.date, Measurement.prcp).\\\n",
    "    filter(Measurement.date >= previous_year_date).\\\n",
    "    order_by( Measurement.date.desc(), Measurement.station.desc()).all()\n",
    "\n",
    "# Close the session after the query\n",
    "    session.close()\n",
    "    \n",
    "# Create a dictionary from the row data and append to a list of prcp_list   \n",
    "    prcp_list = []\n",
    "    for date, prcp in measurement_result:\n",
    "        prcp_dict = {}\n",
    "        prcp_dict[\"Date\"] = date\n",
    "        prcp_dict[\"Precipitation\"] = prcp\n",
    "        prcp_list.append(prcp_dict)\n",
    "\n",
    "# Returns the precipitation for past one year from the max date in the dataset\n",
    "    return jsonify(prcp_list)"
   ]
  },
  {
   "cell_type": "code",
   "execution_count": 11,
   "metadata": {},
   "outputs": [],
   "source": [
    "# Flask route \"stations\"\n",
    "@app.route(\"/api/v1.0/stations\")\n",
    "\n",
    "def stations():\n",
    "\n",
    "# Create our session (link) from Python to the DB\n",
    "    session = Session(engine)\n",
    "\n",
    "#  Perform a query to retrieve the list of stations ordered by Station\n",
    "    station_result = session.query(Measurement.station, Station.name).\\\n",
    "    filter(Measurement.station == Station.station).\\\n",
    "    group_by(Measurement.station).\\\n",
    "    order_by(Measurement.station.asc()).all()\n",
    "\n",
    "# Close the session after the query\n",
    "    session.close()\n",
    "        \n",
    "# Create a dictionary from the row data and append to a list of station_list    \n",
    "    station_list = []\n",
    "    for station, station_name in station_result:\n",
    "        station_dict = {}\n",
    "        station_dict[\"Station\"] = station\n",
    "        station_dict[\"Station Name\"] = station_name\n",
    "        station_list.append(station_dict)\n",
    "\n",
    "# Returns a list of distinct weather stations (Id and the Name) from the measurement table\n",
    "    return jsonify(station_list)"
   ]
  },
  {
   "cell_type": "code",
   "execution_count": 12,
   "metadata": {},
   "outputs": [],
   "source": [
    "# Flask route \"tobs\"\n",
    "@app.route(\"/api/v1.0/tobs\")\n",
    "\n",
    "def tobs():\n",
    "\n",
    "# Create our session (link) from Python to the DB\n",
    "    session = Session(engine)\n",
    "\n",
    "# Calculate the \"max date\" in the Measurement Table\n",
    "    max_date = session.query(Measurement.date).\\\n",
    "    order_by(Measurement.date.desc()).first()\n",
    "    \n",
    "# Calculate the date a year before i.e.the date to be used to get all the records greater than the date\n",
    "    previous_year_date = (dt.datetime.strptime(max_date[0], '%Y-%m-%d').date() - relativedelta(years=1)).isoformat()\n",
    "    \n",
    "# Get the most active station (Station with most tobs records is most active)\n",
    "    most_active_result = session.query(Measurement.station, func.count(Measurement.station)).\\\n",
    "    group_by(Measurement.station).\\\n",
    "    order_by(func.count(Measurement.station).desc()).first()\n",
    "    \n",
    "# Get the tobs for the dates for the station identified above\n",
    "    tobs_result = session.query(Measurement.station,Measurement.date,Measurement.tobs).\\\n",
    "    filter(Measurement.station == most_active_result[0]).\\\n",
    "    filter(Measurement.date >= previous_year_date).\\\n",
    "    order_by(Measurement.station.asc(),Measurement.date.asc()).all()\n",
    "    \n",
    "# Close the session after the query\n",
    "    session.close()\n",
    "    \n",
    "         \n",
    "# Create a dictionary from the row data and append to a list of tobs_list    \n",
    "    tobs_list = []\n",
    "    for station, date, tobs in tobs_result:\n",
    "        tobs_dict = {}\n",
    "        tobs_dict[\"Station\"] = station\n",
    "        tobs_dict[\"Date\"] = date\n",
    "        tobs_dict[\"Tobs\"] = tobs\n",
    "        tobs_list.append(tobs_dict)\n",
    "\n",
    "# Return the Temperatures for the most active station for a year\n",
    "    return jsonify(tobs_list)\n",
    "\n",
    "# Date validation function\n",
    "def validate_date(date_text):\n",
    "    try:\n",
    "        if date_text != dt.datetime.strptime(date_text, \"%Y-%m-%d\").strftime('%Y-%m-%d'):\n",
    "            raise ValueError\n",
    "        return True\n",
    "    except ValueError:\n",
    "        return False"
   ]
  },
  {
   "cell_type": "code",
   "execution_count": 13,
   "metadata": {},
   "outputs": [],
   "source": [
    "# Flask route \"start_date\"\n",
    "@app.route(\"/api/v1.0/<start_date>\")\n",
    "\n",
    "def start(start_date):\n",
    "\n",
    "# Validate the start date, raise error for invalid date entry.\n",
    "    if not validate_date(start_date):\n",
    "        return jsonify({\"error\": f\"Please, specify the date in 'YYYY-MM-DD' format: The entered date '{start_date}' is not valid.\"}), 404\n",
    "    start_date = dt.datetime.strptime(start_date, '%Y-%m-%d')\n",
    "\n",
    "# Create our session (link) from Python to the DB\n",
    "    session = Session(engine)\n",
    "    min_temp = session.query(func.min(Measurement.tobs)).filter(Measurement.date >= start_date).scalar()\n",
    "    avg_temp = session.query(func.round(func.avg(Measurement.tobs))).filter(Measurement.date >= start_date).scalar()\n",
    "    max_temp = session.query(func.max(Measurement.tobs)).filter(Measurement.date >= start_date).scalar()\n",
    "\n",
    "# Close the session after the query\n",
    "    session.close()\n",
    "\n",
    "# Return the Minimum, Average and Maximum temperatures for the dates greater then the user entered date\n",
    "    result = [{\"Minimum Temp\":min_temp}, {\"Average Temp\":avg_temp}, {\"Maximum Temp\":max_temp}]\n",
    "    return jsonify(result)"
   ]
  },
  {
   "cell_type": "code",
   "execution_count": 14,
   "metadata": {},
   "outputs": [],
   "source": [
    "# Flask route \"start_date, end_date\"\n",
    "@app.route(\"/api/v1.0/<start_date>/<end_date>\")\n",
    "\n",
    "def start_end(start_date, end_date):\n",
    "\n",
    "# Validate the start and end dates and also check that the end date is greater than start date, raise error for invalid date entry.\n",
    "    if not validate_date(start_date):\n",
    "        return jsonify({\"error\": f\"Please, specify the start date in 'YYYY-MM-DD' format: The entered date '{start_date}' is not valid.\"}), 404\n",
    "    if not validate_date(end_date):\n",
    "        return jsonify({\"error\": f\"Please, specify the end date in 'YYYY-MM-DD' format: The entered date '{end_date}' is not valid.\"}), 404\n",
    "    if end_date < start_date:\n",
    "        return jsonify({\"error\": f\"Please, specify start date less then end date. The dates entered are '{start_date}' and '{end_date}'\"}), 404\n",
    "\n",
    "    start_date = dt.datetime.strptime(start_date, '%Y-%m-%d')\n",
    "    end_date = dt.datetime.strptime(end_date, '%Y-%m-%d')\n",
    "\n",
    "# Create our session (link) from Python to the DB\n",
    "    session = Session(engine)\n",
    "\n",
    "    min_temp = session.query(func.min(Measurement.tobs)).filter(Measurement.date >= start_date).scalar()\n",
    "    avg_temp = session.query(func.round(func.avg(Measurement.tobs))).filter(Measurement.date.between(start_date, end_date)).scalar()\n",
    "    max_temp = session.query(func.max(Measurement.tobs)).filter(Measurement.date >= start_date).scalar()\n",
    "\n",
    "\n",
    "# Close the session after the query\n",
    "    session.close()\n",
    "\n",
    "# Return the Minimum, Average and Maximum temperatures for the specified date range.\n",
    "    result = [{\"Minimum Temp\":min_temp}, {\"Average Temp\":avg_temp}, {\"Maximum Temp\":max_temp}]\n",
    "    return jsonify(result)"
   ]
  },
  {
   "cell_type": "code",
   "execution_count": 15,
   "metadata": {},
   "outputs": [
    {
     "name": "stdout",
     "output_type": "stream",
     "text": [
      " * Serving Flask app \"__main__\" (lazy loading)\n",
      " * Environment: production\n",
      "   WARNING: This is a development server. Do not use it in a production deployment.\n",
      "   Use a production WSGI server instead.\n",
      " * Debug mode: on\n"
     ]
    },
    {
     "name": "stderr",
     "output_type": "stream",
     "text": [
      " * Restarting with stat\n"
     ]
    },
    {
     "ename": "SystemExit",
     "evalue": "1",
     "output_type": "error",
     "traceback": [
      "An exception has occurred, use %tb to see the full traceback.\n",
      "\u001b[1;31mSystemExit\u001b[0m\u001b[1;31m:\u001b[0m 1\n"
     ]
    },
    {
     "name": "stderr",
     "output_type": "stream",
     "text": [
      "C:\\Users\\shweta shukla\\Anaconda3\\lib\\site-packages\\IPython\\core\\interactiveshell.py:3334: UserWarning: To exit: use 'exit', 'quit', or Ctrl-D.\n",
      "  warn(\"To exit: use 'exit', 'quit', or Ctrl-D.\", stacklevel=1)\n"
     ]
    }
   ],
   "source": [
    "if __name__ == \"__main__\":\n",
    "    app.run(debug=True)"
   ]
  },
  {
   "cell_type": "code",
   "execution_count": null,
   "metadata": {},
   "outputs": [],
   "source": []
  }
 ],
 "metadata": {
  "kernelspec": {
   "display_name": "Python 3",
   "language": "python",
   "name": "python3"
  },
  "language_info": {
   "codemirror_mode": {
    "name": "ipython",
    "version": 3
   },
   "file_extension": ".py",
   "mimetype": "text/x-python",
   "name": "python",
   "nbconvert_exporter": "python",
   "pygments_lexer": "ipython3",
   "version": "3.7.4"
  }
 },
 "nbformat": 4,
 "nbformat_minor": 2
}
